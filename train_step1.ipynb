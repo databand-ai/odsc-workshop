{
 "cells": [
  {
   "cell_type": "code",
   "execution_count": null,
   "metadata": {},
   "outputs": [],
   "source": [
    "import pandas as pd\n",
    "import numpy as np\n",
    "import logging\n",
    "from sklearn.linear_model import ElasticNet\n",
    "from sklearn.model_selection import train_test_split\n",
    "from sklearn.metrics import mean_absolute_error, mean_squared_error, r2_score\n",
    "\n",
    "\n",
    "def my_training_script():\n",
    "    # load data\n",
    "    raw_data = pd.read_csv(\"wine.csv\")\n",
    "\n",
    "    # split data into training and validation sets\n",
    "    train_df, validation_df = train_test_split(raw_data, test_size=0.5)\n",
    "\n",
    "    # create hyperparameters and model\n",
    "    alpha = 0.5\n",
    "    l1_ratio = 0.2\n",
    "    lr = ElasticNet(alpha=alpha, l1_ratio=l1_ratio)\n",
    "    lr.fit(train_df.drop([\"quality\"], 1), train_df[[\"quality\"]])\n",
    "\n",
    "    # validation\n",
    "    validation_x = validation_df.drop([\"quality\"], 1)\n",
    "    validation_y = validation_df[[\"quality\"]]\n",
    "    prediction = lr.predict(validation_x)\n",
    "    rmse = np.sqrt(mean_squared_error(validation_y, prediction))\n",
    "    mae = mean_absolute_error(validation_y, prediction)\n",
    "    r2 = r2_score(validation_y, prediction)\n",
    "\n",
    "    print(\"RMSE: %s, MAE: %s,R2: %s\"%(rmse, mae, r2))\n",
    "\n",
    "    return lr\n",
    "\n",
    "my_training_script()\n"
   ]
  }
 ],
 "metadata": {
  "kernelspec": {
   "display_name": "odsc-venv",
   "language": "python",
   "name": "odsc-venv"
  },
  "language_info": {
   "codemirror_mode": {
    "name": "ipython",
    "version": 3
   },
   "file_extension": ".py",
   "mimetype": "text/x-python",
   "name": "python",
   "nbconvert_exporter": "python",
   "pygments_lexer": "ipython3",
   "version": "3.7.3"
  }
 },
 "nbformat": 4,
 "nbformat_minor": 2
}
