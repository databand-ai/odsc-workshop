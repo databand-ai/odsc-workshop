{
 "cells": [
  {
   "cell_type": "code",
   "execution_count": null,
   "metadata": {},
   "outputs": [],
   "source": [
    "# python3.6\n",
    "import numpy as np\n",
    "import logging\n",
    "import sys\n",
    "from pandas import DataFrame\n",
    "from dbnd import task, pipeline, output\n",
    "from sklearn.linear_model import ElasticNet\n",
    "from dbnd import log_dataframe, log_metric\n",
    "from sklearn.metrics import mean_absolute_error, mean_squared_error, r2_score\n",
    "from typing import Tuple\n",
    "from sklearn.model_selection import train_test_split\n",
    "\n",
    "logging.basicConfig(level=logging.INFO)\n",
    "\n",
    "@task(result=\"training_set, validation_set\")\n",
    "def prepare_data(raw_data: DataFrame) -> Tuple[DataFrame, DataFrame]:\n",
    "    train_df, validation_df = train_test_split(raw_data)\n",
    "\n",
    "    return train_df, validation_df\n",
    "\n",
    "\n",
    "@task\n",
    "def train_model(\n",
    "    training_set: DataFrame,\n",
    "    alpha: float = 0.5,\n",
    "    l1_ratio: float = 0.5,\n",
    ") -> ElasticNet:\n",
    "    lr = ElasticNet(alpha=alpha, l1_ratio=l1_ratio)\n",
    "    lr.fit(training_set.drop([\"quality\"], 1), training_set[[\"quality\"]])\n",
    "\n",
    "    return lr\n",
    "\n",
    "@task\n",
    "def validate_model(model: ElasticNet, validation_dataset: DataFrame) -> str:\n",
    "    log_dataframe(\"validation\", validation_dataset)\n",
    "\n",
    "    validation_x = validation_dataset.drop([\"quality\"], 1)\n",
    "    validation_y = validation_dataset[[\"quality\"]]\n",
    "\n",
    "    prediction = model.predict(validation_x)\n",
    "    rmse = np.sqrt(mean_squared_error(validation_y, prediction))\n",
    "    mae = mean_absolute_error(validation_y, prediction)\n",
    "    r2 = r2_score(validation_y, prediction)\n",
    "\n",
    "    log_metric(\"rmse\", rmse)\n",
    "    log_metric(\"mae\", rmse)\n",
    "    log_metric(\"r2\", r2)\n",
    "\n",
    "    return \"%s,%s,%s\" % (rmse, mae, r2)\n",
    "\n",
    "# task\n",
    "@pipeline(result=(\"model\", \"validation\"))\n",
    "def predict_wine_quality(\n",
    "    raw_data: DataFrame,\n",
    "    alpha: float = 0.5,\n",
    "    l1_ratio: float = 0.5,\n",
    "):\n",
    "    training_set, validation_set = prepare_data(raw_data=raw_data)\n",
    "\n",
    "    model = train_model(\n",
    "        training_set=training_set, alpha=alpha, l1_ratio=l1_ratio\n",
    "    )\n",
    "    validation = validate_model(model=model, validation_dataset=validation_set)\n",
    "\n",
    "    return model, validation"
   ]
  },
  {
   "cell_type": "code",
   "execution_count": null,
   "metadata": {},
   "outputs": [],
   "source": [
    "#Execute functionalized code\n",
    "run = predict_wine_quality.dbnd_run(raw_data=\"wine.csv\", task_version=\"now\")"
   ]
  },
  {
   "cell_type": "code",
   "execution_count": null,
   "metadata": {},
   "outputs": [],
   "source": [
    "import matplotlib.pyplot as plt\n",
    "from reporter import generate_run_figures\n",
    "%matplotlib inline\n",
    "\n",
    "#Build run report\n",
    "figures = generate_run_figures(str(run.run_uid))\n",
    "[f.show() for f in figures]"
   ]
  }
 ],
 "metadata": {
  "kernelspec": {
   "display_name": "odsc2",
   "language": "python",
   "name": "odsc2"
  },
  "language_info": {
   "codemirror_mode": {
    "name": "ipython",
    "version": 3
   },
   "file_extension": ".py",
   "mimetype": "text/x-python",
   "name": "python",
   "nbconvert_exporter": "python",
   "pygments_lexer": "ipython3",
   "version": "3.6.5"
  }
 },
 "nbformat": 4,
 "nbformat_minor": 2
}
